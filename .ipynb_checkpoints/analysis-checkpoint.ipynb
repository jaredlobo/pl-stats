{
 "cells": [
  {
   "cell_type": "code",
   "execution_count": 4,
   "metadata": {},
   "outputs": [],
   "source": [
    "import pandas as pd\n",
    "import matplotlib as plt\n",
    "import seaborn as sns"
   ]
  },
  {
   "cell_type": "markdown",
   "metadata": {},
   "source": [
    "## **Description of dataset**\n",
    "\n",
    "**Key to results data:**<br />\n",
    "\n",
    "Div = League Division<br />\n",
    "Date = Match Date (dd/mm/yy)<br />\n",
    "Time = Time of match kick-off<br />\n",
    "HomeTeam = Home Team<br />\n",
    "Away team = Away Team<br />\n",
    "FTHG and HG = Full Time Home Team Goals<br />\n",
    "FTAG and AG = Full-Time Away Team Goals<br />\n",
    "FTR and Res = Full-Time Result (H=Home Win, D=Draw, A=Away Win)<br />\n",
    "HTHG = Half Time Home Team Goals<br />\n",
    "HTAG = Half Time Away Team Goals<br />\n",
    "HTR = Half Time Result (H=Home Win, D=Draw, A=Away Win)<br />\n",
    "\n",
    "**Match Statistics (where available):**<br />\n",
    "\n",
    "Attendance = Crowd Attendance<br />\n",
    "Referee = Match Referee<br />\n",
    "HS = Home Team Shots<br />\n",
    "AS = Away Team Shots<br />\n",
    "HST = Home Team Shots on Target<br />\n",
    "AST = Away Team Shots on Target<br />\n",
    "HHW = Home Team Hit Woodwork<br />\n",
    "AHW = Away Team Hit Woodwork<br />\n",
    "HC = Home Team Corners<br />\n",
    "AC = Away Team Corners<br />\n",
    "HF = Home Team Fouls Committed<br />\n",
    "AF = Away Team Fouls Committed<br />\n",
    "HFKC = Home Team Free Kicks Conceded<br />\n",
    "AFKC = Away Team Free Kicks Conceded<br />\n",
    "HO = Home Team Offsides<br />\n",
    "AO = Away Team Offsides<br />\n",
    "HY = Home Team Yellow Cards<br />\n",
    "AY = Away Team Yellow Cards *HR = Home Team Red Cards AR = Away Team Red Cards HBP = Home Team Bookings Points (10 = yellow, 25 = red) ABP = Away Team Bookings Points (10 = yellow, 25 = red)<br />"
   ]
  },
  {
   "cell_type": "code",
   "execution_count": 10,
   "metadata": {},
   "outputs": [],
   "source": [
    "# datasource - https://datahub.io/sports-data/english-premier-league\n",
    "# load data\n",
    "\n",
    "datapath = \"../pl-stats/data/season-\"\n",
    "df_0910 = pd.read_csv(datapath+\"0910.csv\")\n",
    "df_1011 = pd.read_csv(datapath+\"1011.csv\")\n",
    "df_1112 = pd.read_csv(datapath+\"1112.csv\")\n",
    "df_1213 = pd.read_csv(datapath+\"1213.csv\")\n",
    "df_1314 = pd.read_csv(datapath+\"1314.csv\")\n",
    "df_1415 = pd.read_csv(datapath+\"1415.csv\")\n",
    "df_1516 = pd.read_csv(datapath+\"1516.csv\")\n",
    "df_1617 = pd.read_csv(datapath+\"1617.csv\")\n",
    "df_1718 = pd.read_csv(datapath+\"1718.csv\")\n",
    "df_1819 = pd.read_csv(datapath+\"1819.csv\")"
   ]
  },
  {
   "cell_type": "code",
   "execution_count": null,
   "metadata": {},
   "outputs": [],
   "source": []
  }
 ],
 "metadata": {
  "kernelspec": {
   "display_name": "Python 3",
   "language": "python",
   "name": "python3"
  },
  "language_info": {
   "codemirror_mode": {
    "name": "ipython",
    "version": 3
   },
   "file_extension": ".py",
   "mimetype": "text/x-python",
   "name": "python",
   "nbconvert_exporter": "python",
   "pygments_lexer": "ipython3",
   "version": "3.6.9"
  }
 },
 "nbformat": 4,
 "nbformat_minor": 4
}
